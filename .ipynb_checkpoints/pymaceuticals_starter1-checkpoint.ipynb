{
 "cells": [
  {
   "cell_type": "markdown",
   "metadata": {},
   "source": [
    "## Observations and Insights "
   ]
  },
  {
   "cell_type": "markdown",
   "metadata": {},
   "source": []
  },
  {
   "cell_type": "code",
   "execution_count": 2,
   "metadata": {
    "scrolled": false
   },
   "outputs": [
    {
     "data": {
      "text/html": [
       "<div>\n",
       "<style scoped>\n",
       "    .dataframe tbody tr th:only-of-type {\n",
       "        vertical-align: middle;\n",
       "    }\n",
       "\n",
       "    .dataframe tbody tr th {\n",
       "        vertical-align: top;\n",
       "    }\n",
       "\n",
       "    .dataframe thead th {\n",
       "        text-align: right;\n",
       "    }\n",
       "</style>\n",
       "<table border=\"1\" class=\"dataframe\">\n",
       "  <thead>\n",
       "    <tr style=\"text-align: right;\">\n",
       "      <th></th>\n",
       "      <th>Mouse ID</th>\n",
       "      <th>Drug Regimen</th>\n",
       "      <th>Sex</th>\n",
       "      <th>Age_months</th>\n",
       "      <th>Weight (g)</th>\n",
       "      <th>Timepoint</th>\n",
       "      <th>Tumor Volume (mm3)</th>\n",
       "      <th>Metastatic Sites</th>\n",
       "    </tr>\n",
       "  </thead>\n",
       "  <tbody>\n",
       "    <tr>\n",
       "      <th>0</th>\n",
       "      <td>k403</td>\n",
       "      <td>Ramicane</td>\n",
       "      <td>Male</td>\n",
       "      <td>21</td>\n",
       "      <td>16</td>\n",
       "      <td>0</td>\n",
       "      <td>45.000000</td>\n",
       "      <td>0</td>\n",
       "    </tr>\n",
       "    <tr>\n",
       "      <th>1</th>\n",
       "      <td>k403</td>\n",
       "      <td>Ramicane</td>\n",
       "      <td>Male</td>\n",
       "      <td>21</td>\n",
       "      <td>16</td>\n",
       "      <td>5</td>\n",
       "      <td>38.825898</td>\n",
       "      <td>0</td>\n",
       "    </tr>\n",
       "    <tr>\n",
       "      <th>2</th>\n",
       "      <td>k403</td>\n",
       "      <td>Ramicane</td>\n",
       "      <td>Male</td>\n",
       "      <td>21</td>\n",
       "      <td>16</td>\n",
       "      <td>10</td>\n",
       "      <td>35.014271</td>\n",
       "      <td>1</td>\n",
       "    </tr>\n",
       "    <tr>\n",
       "      <th>3</th>\n",
       "      <td>k403</td>\n",
       "      <td>Ramicane</td>\n",
       "      <td>Male</td>\n",
       "      <td>21</td>\n",
       "      <td>16</td>\n",
       "      <td>15</td>\n",
       "      <td>34.223992</td>\n",
       "      <td>1</td>\n",
       "    </tr>\n",
       "    <tr>\n",
       "      <th>4</th>\n",
       "      <td>k403</td>\n",
       "      <td>Ramicane</td>\n",
       "      <td>Male</td>\n",
       "      <td>21</td>\n",
       "      <td>16</td>\n",
       "      <td>20</td>\n",
       "      <td>32.997729</td>\n",
       "      <td>1</td>\n",
       "    </tr>\n",
       "    <tr>\n",
       "      <th>...</th>\n",
       "      <td>...</td>\n",
       "      <td>...</td>\n",
       "      <td>...</td>\n",
       "      <td>...</td>\n",
       "      <td>...</td>\n",
       "      <td>...</td>\n",
       "      <td>...</td>\n",
       "      <td>...</td>\n",
       "    </tr>\n",
       "    <tr>\n",
       "      <th>1888</th>\n",
       "      <td>z969</td>\n",
       "      <td>Naftisol</td>\n",
       "      <td>Male</td>\n",
       "      <td>9</td>\n",
       "      <td>30</td>\n",
       "      <td>25</td>\n",
       "      <td>63.145652</td>\n",
       "      <td>2</td>\n",
       "    </tr>\n",
       "    <tr>\n",
       "      <th>1889</th>\n",
       "      <td>z969</td>\n",
       "      <td>Naftisol</td>\n",
       "      <td>Male</td>\n",
       "      <td>9</td>\n",
       "      <td>30</td>\n",
       "      <td>30</td>\n",
       "      <td>65.841013</td>\n",
       "      <td>3</td>\n",
       "    </tr>\n",
       "    <tr>\n",
       "      <th>1890</th>\n",
       "      <td>z969</td>\n",
       "      <td>Naftisol</td>\n",
       "      <td>Male</td>\n",
       "      <td>9</td>\n",
       "      <td>30</td>\n",
       "      <td>35</td>\n",
       "      <td>69.176246</td>\n",
       "      <td>4</td>\n",
       "    </tr>\n",
       "    <tr>\n",
       "      <th>1891</th>\n",
       "      <td>z969</td>\n",
       "      <td>Naftisol</td>\n",
       "      <td>Male</td>\n",
       "      <td>9</td>\n",
       "      <td>30</td>\n",
       "      <td>40</td>\n",
       "      <td>70.314904</td>\n",
       "      <td>4</td>\n",
       "    </tr>\n",
       "    <tr>\n",
       "      <th>1892</th>\n",
       "      <td>z969</td>\n",
       "      <td>Naftisol</td>\n",
       "      <td>Male</td>\n",
       "      <td>9</td>\n",
       "      <td>30</td>\n",
       "      <td>45</td>\n",
       "      <td>73.867845</td>\n",
       "      <td>4</td>\n",
       "    </tr>\n",
       "  </tbody>\n",
       "</table>\n",
       "<p>1893 rows × 8 columns</p>\n",
       "</div>"
      ],
      "text/plain": [
       "     Mouse ID Drug Regimen   Sex  Age_months  Weight (g)  Timepoint  \\\n",
       "0        k403     Ramicane  Male          21          16          0   \n",
       "1        k403     Ramicane  Male          21          16          5   \n",
       "2        k403     Ramicane  Male          21          16         10   \n",
       "3        k403     Ramicane  Male          21          16         15   \n",
       "4        k403     Ramicane  Male          21          16         20   \n",
       "...       ...          ...   ...         ...         ...        ...   \n",
       "1888     z969     Naftisol  Male           9          30         25   \n",
       "1889     z969     Naftisol  Male           9          30         30   \n",
       "1890     z969     Naftisol  Male           9          30         35   \n",
       "1891     z969     Naftisol  Male           9          30         40   \n",
       "1892     z969     Naftisol  Male           9          30         45   \n",
       "\n",
       "      Tumor Volume (mm3)  Metastatic Sites  \n",
       "0              45.000000                 0  \n",
       "1              38.825898                 0  \n",
       "2              35.014271                 1  \n",
       "3              34.223992                 1  \n",
       "4              32.997729                 1  \n",
       "...                  ...               ...  \n",
       "1888           63.145652                 2  \n",
       "1889           65.841013                 3  \n",
       "1890           69.176246                 4  \n",
       "1891           70.314904                 4  \n",
       "1892           73.867845                 4  \n",
       "\n",
       "[1893 rows x 8 columns]"
      ]
     },
     "execution_count": 2,
     "metadata": {},
     "output_type": "execute_result"
    }
   ],
   "source": [
    "# Dependencies and Setup\n",
    "import matplotlib.pyplot as plt\n",
    "import pandas as pd\n",
    "import scipy.stats as st\n",
    "import numpy as np\n",
    "\n",
    "# Study data files\n",
    "mouse_metadata_path = \"data/Mouse_metadata.csv\"\n",
    "study_results_path = \"data/Study_results.csv\"\n",
    "\n",
    "# Read the mouse data and the study results\n",
    "mouse_metadata = pd.read_csv(mouse_metadata_path)\n",
    "study_results = pd.read_csv(study_results_path)\n",
    "\n",
    "# Combine the data into a single dataset\n",
    "mouse_dataCombined = pd.merge(mouse_metadata, study_results, how = 'left', on=['Mouse ID', 'Mouse ID'])\n",
    "# Display the data table for preview\n",
    "mouse_dataCombined\n"
   ]
  },
  {
   "cell_type": "code",
   "execution_count": 3,
   "metadata": {
    "scrolled": true
   },
   "outputs": [
    {
     "name": "stdout",
     "output_type": "stream",
     "text": [
      "This data has 249 unique Mouse IDs.\n"
     ]
    }
   ],
   "source": [
    "# Checking the number of mice. Use .unique() to see all mouse IDs\n",
    "mouse_count = len(mouse_dataCombined['Mouse ID'].unique())\n",
    "print(f'This data has {mouse_count} unique Mouse IDs.')\n"
   ]
  },
  {
   "cell_type": "code",
   "execution_count": 4,
   "metadata": {
    "scrolled": false
   },
   "outputs": [
    {
     "data": {
      "text/html": [
       "<div>\n",
       "<style scoped>\n",
       "    .dataframe tbody tr th:only-of-type {\n",
       "        vertical-align: middle;\n",
       "    }\n",
       "\n",
       "    .dataframe tbody tr th {\n",
       "        vertical-align: top;\n",
       "    }\n",
       "\n",
       "    .dataframe thead th {\n",
       "        text-align: right;\n",
       "    }\n",
       "</style>\n",
       "<table border=\"1\" class=\"dataframe\">\n",
       "  <thead>\n",
       "    <tr style=\"text-align: right;\">\n",
       "      <th></th>\n",
       "      <th>Mouse ID</th>\n",
       "      <th>Drug Regimen</th>\n",
       "      <th>Sex</th>\n",
       "      <th>Age_months</th>\n",
       "      <th>Weight (g)</th>\n",
       "      <th>Timepoint</th>\n",
       "      <th>Tumor Volume (mm3)</th>\n",
       "      <th>Metastatic Sites</th>\n",
       "    </tr>\n",
       "  </thead>\n",
       "  <tbody>\n",
       "    <tr>\n",
       "      <th>909</th>\n",
       "      <td>g989</td>\n",
       "      <td>Propriva</td>\n",
       "      <td>Female</td>\n",
       "      <td>21</td>\n",
       "      <td>26</td>\n",
       "      <td>0</td>\n",
       "      <td>45.0</td>\n",
       "      <td>0</td>\n",
       "    </tr>\n",
       "  </tbody>\n",
       "</table>\n",
       "</div>"
      ],
      "text/plain": [
       "    Mouse ID Drug Regimen     Sex  Age_months  Weight (g)  Timepoint  \\\n",
       "909     g989     Propriva  Female          21          26          0   \n",
       "\n",
       "     Tumor Volume (mm3)  Metastatic Sites  \n",
       "909                45.0                 0  "
      ]
     },
     "execution_count": 4,
     "metadata": {},
     "output_type": "execute_result"
    }
   ],
   "source": [
    "# Getting the duplicate mice by ID number that shows up for Mouse ID and Timepoint. \n",
    "\n",
    "# Select duplicate rows except first occurrence based on all columns\n",
    "#df2 = df[df.duplicated()]\n",
    "\n",
    "duplicate_mouse = mouse_dataCombined[mouse_dataCombined.duplicated()]\n",
    "duplicate_mouse"
   ]
  },
  {
   "cell_type": "code",
   "execution_count": 5,
   "metadata": {},
   "outputs": [
    {
     "data": {
      "text/html": [
       "<div>\n",
       "<style scoped>\n",
       "    .dataframe tbody tr th:only-of-type {\n",
       "        vertical-align: middle;\n",
       "    }\n",
       "\n",
       "    .dataframe tbody tr th {\n",
       "        vertical-align: top;\n",
       "    }\n",
       "\n",
       "    .dataframe thead th {\n",
       "        text-align: right;\n",
       "    }\n",
       "</style>\n",
       "<table border=\"1\" class=\"dataframe\">\n",
       "  <thead>\n",
       "    <tr style=\"text-align: right;\">\n",
       "      <th></th>\n",
       "      <th>Mouse ID</th>\n",
       "      <th>Drug Regimen</th>\n",
       "      <th>Sex</th>\n",
       "      <th>Age_months</th>\n",
       "      <th>Weight (g)</th>\n",
       "      <th>Timepoint</th>\n",
       "      <th>Tumor Volume (mm3)</th>\n",
       "      <th>Metastatic Sites</th>\n",
       "    </tr>\n",
       "  </thead>\n",
       "  <tbody>\n",
       "    <tr>\n",
       "      <th>908</th>\n",
       "      <td>g989</td>\n",
       "      <td>Propriva</td>\n",
       "      <td>Female</td>\n",
       "      <td>21</td>\n",
       "      <td>26</td>\n",
       "      <td>0</td>\n",
       "      <td>45.000000</td>\n",
       "      <td>0</td>\n",
       "    </tr>\n",
       "    <tr>\n",
       "      <th>909</th>\n",
       "      <td>g989</td>\n",
       "      <td>Propriva</td>\n",
       "      <td>Female</td>\n",
       "      <td>21</td>\n",
       "      <td>26</td>\n",
       "      <td>0</td>\n",
       "      <td>45.000000</td>\n",
       "      <td>0</td>\n",
       "    </tr>\n",
       "    <tr>\n",
       "      <th>910</th>\n",
       "      <td>g989</td>\n",
       "      <td>Propriva</td>\n",
       "      <td>Female</td>\n",
       "      <td>21</td>\n",
       "      <td>26</td>\n",
       "      <td>5</td>\n",
       "      <td>48.786801</td>\n",
       "      <td>0</td>\n",
       "    </tr>\n",
       "    <tr>\n",
       "      <th>911</th>\n",
       "      <td>g989</td>\n",
       "      <td>Propriva</td>\n",
       "      <td>Female</td>\n",
       "      <td>21</td>\n",
       "      <td>26</td>\n",
       "      <td>5</td>\n",
       "      <td>47.570392</td>\n",
       "      <td>0</td>\n",
       "    </tr>\n",
       "    <tr>\n",
       "      <th>912</th>\n",
       "      <td>g989</td>\n",
       "      <td>Propriva</td>\n",
       "      <td>Female</td>\n",
       "      <td>21</td>\n",
       "      <td>26</td>\n",
       "      <td>10</td>\n",
       "      <td>51.745156</td>\n",
       "      <td>0</td>\n",
       "    </tr>\n",
       "    <tr>\n",
       "      <th>913</th>\n",
       "      <td>g989</td>\n",
       "      <td>Propriva</td>\n",
       "      <td>Female</td>\n",
       "      <td>21</td>\n",
       "      <td>26</td>\n",
       "      <td>10</td>\n",
       "      <td>49.880528</td>\n",
       "      <td>0</td>\n",
       "    </tr>\n",
       "    <tr>\n",
       "      <th>914</th>\n",
       "      <td>g989</td>\n",
       "      <td>Propriva</td>\n",
       "      <td>Female</td>\n",
       "      <td>21</td>\n",
       "      <td>26</td>\n",
       "      <td>15</td>\n",
       "      <td>51.325852</td>\n",
       "      <td>1</td>\n",
       "    </tr>\n",
       "    <tr>\n",
       "      <th>915</th>\n",
       "      <td>g989</td>\n",
       "      <td>Propriva</td>\n",
       "      <td>Female</td>\n",
       "      <td>21</td>\n",
       "      <td>26</td>\n",
       "      <td>15</td>\n",
       "      <td>53.442020</td>\n",
       "      <td>0</td>\n",
       "    </tr>\n",
       "    <tr>\n",
       "      <th>916</th>\n",
       "      <td>g989</td>\n",
       "      <td>Propriva</td>\n",
       "      <td>Female</td>\n",
       "      <td>21</td>\n",
       "      <td>26</td>\n",
       "      <td>20</td>\n",
       "      <td>55.326122</td>\n",
       "      <td>1</td>\n",
       "    </tr>\n",
       "    <tr>\n",
       "      <th>917</th>\n",
       "      <td>g989</td>\n",
       "      <td>Propriva</td>\n",
       "      <td>Female</td>\n",
       "      <td>21</td>\n",
       "      <td>26</td>\n",
       "      <td>20</td>\n",
       "      <td>54.657650</td>\n",
       "      <td>1</td>\n",
       "    </tr>\n",
       "    <tr>\n",
       "      <th>918</th>\n",
       "      <td>g989</td>\n",
       "      <td>Propriva</td>\n",
       "      <td>Female</td>\n",
       "      <td>21</td>\n",
       "      <td>26</td>\n",
       "      <td>25</td>\n",
       "      <td>56.045564</td>\n",
       "      <td>1</td>\n",
       "    </tr>\n",
       "    <tr>\n",
       "      <th>919</th>\n",
       "      <td>g989</td>\n",
       "      <td>Propriva</td>\n",
       "      <td>Female</td>\n",
       "      <td>21</td>\n",
       "      <td>26</td>\n",
       "      <td>30</td>\n",
       "      <td>59.082294</td>\n",
       "      <td>1</td>\n",
       "    </tr>\n",
       "    <tr>\n",
       "      <th>920</th>\n",
       "      <td>g989</td>\n",
       "      <td>Propriva</td>\n",
       "      <td>Female</td>\n",
       "      <td>21</td>\n",
       "      <td>26</td>\n",
       "      <td>35</td>\n",
       "      <td>62.570880</td>\n",
       "      <td>2</td>\n",
       "    </tr>\n",
       "  </tbody>\n",
       "</table>\n",
       "</div>"
      ],
      "text/plain": [
       "    Mouse ID Drug Regimen     Sex  Age_months  Weight (g)  Timepoint  \\\n",
       "908     g989     Propriva  Female          21          26          0   \n",
       "909     g989     Propriva  Female          21          26          0   \n",
       "910     g989     Propriva  Female          21          26          5   \n",
       "911     g989     Propriva  Female          21          26          5   \n",
       "912     g989     Propriva  Female          21          26         10   \n",
       "913     g989     Propriva  Female          21          26         10   \n",
       "914     g989     Propriva  Female          21          26         15   \n",
       "915     g989     Propriva  Female          21          26         15   \n",
       "916     g989     Propriva  Female          21          26         20   \n",
       "917     g989     Propriva  Female          21          26         20   \n",
       "918     g989     Propriva  Female          21          26         25   \n",
       "919     g989     Propriva  Female          21          26         30   \n",
       "920     g989     Propriva  Female          21          26         35   \n",
       "\n",
       "     Tumor Volume (mm3)  Metastatic Sites  \n",
       "908           45.000000                 0  \n",
       "909           45.000000                 0  \n",
       "910           48.786801                 0  \n",
       "911           47.570392                 0  \n",
       "912           51.745156                 0  \n",
       "913           49.880528                 0  \n",
       "914           51.325852                 1  \n",
       "915           53.442020                 0  \n",
       "916           55.326122                 1  \n",
       "917           54.657650                 1  \n",
       "918           56.045564                 1  \n",
       "919           59.082294                 1  \n",
       "920           62.570880                 2  "
      ]
     },
     "execution_count": 5,
     "metadata": {},
     "output_type": "execute_result"
    }
   ],
   "source": [
    "# Optional: Get all the data for the duplicate mouse ID. \n",
    "#pd.concat(g for _, g in df.groupby(\"ID\") if len(g) > 1)\n",
    "\n",
    "# Search data for rows with duplicated Mouse ID and TImepoint\n",
    "\n",
    "#duplicate = []\n",
    "#mouse_duplicate = pd.concat(x for duplicate, x in mouse_dataCombined.groupby(['Mouse ID', 'Timepoint']) if len(x) > 1)\n",
    "#mouse_duplicate\n",
    "\n",
    "mouse_duplicate = mouse_dataCombined.loc[(mouse_dataCombined['Mouse ID'] == 'g989'), :]\n",
    "mouse_duplicate"
   ]
  },
  {
   "cell_type": "code",
   "execution_count": 6,
   "metadata": {},
   "outputs": [
    {
     "data": {
      "text/html": [
       "<div>\n",
       "<style scoped>\n",
       "    .dataframe tbody tr th:only-of-type {\n",
       "        vertical-align: middle;\n",
       "    }\n",
       "\n",
       "    .dataframe tbody tr th {\n",
       "        vertical-align: top;\n",
       "    }\n",
       "\n",
       "    .dataframe thead th {\n",
       "        text-align: right;\n",
       "    }\n",
       "</style>\n",
       "<table border=\"1\" class=\"dataframe\">\n",
       "  <thead>\n",
       "    <tr style=\"text-align: right;\">\n",
       "      <th></th>\n",
       "      <th>Mouse ID</th>\n",
       "      <th>Drug Regimen</th>\n",
       "      <th>Sex</th>\n",
       "      <th>Age_months</th>\n",
       "      <th>Weight (g)</th>\n",
       "      <th>Timepoint</th>\n",
       "      <th>Tumor Volume (mm3)</th>\n",
       "      <th>Metastatic Sites</th>\n",
       "    </tr>\n",
       "  </thead>\n",
       "  <tbody>\n",
       "    <tr>\n",
       "      <th>0</th>\n",
       "      <td>k403</td>\n",
       "      <td>Ramicane</td>\n",
       "      <td>Male</td>\n",
       "      <td>21</td>\n",
       "      <td>16</td>\n",
       "      <td>0</td>\n",
       "      <td>45.000000</td>\n",
       "      <td>0</td>\n",
       "    </tr>\n",
       "    <tr>\n",
       "      <th>1</th>\n",
       "      <td>k403</td>\n",
       "      <td>Ramicane</td>\n",
       "      <td>Male</td>\n",
       "      <td>21</td>\n",
       "      <td>16</td>\n",
       "      <td>5</td>\n",
       "      <td>38.825898</td>\n",
       "      <td>0</td>\n",
       "    </tr>\n",
       "    <tr>\n",
       "      <th>2</th>\n",
       "      <td>k403</td>\n",
       "      <td>Ramicane</td>\n",
       "      <td>Male</td>\n",
       "      <td>21</td>\n",
       "      <td>16</td>\n",
       "      <td>10</td>\n",
       "      <td>35.014271</td>\n",
       "      <td>1</td>\n",
       "    </tr>\n",
       "    <tr>\n",
       "      <th>3</th>\n",
       "      <td>k403</td>\n",
       "      <td>Ramicane</td>\n",
       "      <td>Male</td>\n",
       "      <td>21</td>\n",
       "      <td>16</td>\n",
       "      <td>15</td>\n",
       "      <td>34.223992</td>\n",
       "      <td>1</td>\n",
       "    </tr>\n",
       "    <tr>\n",
       "      <th>4</th>\n",
       "      <td>k403</td>\n",
       "      <td>Ramicane</td>\n",
       "      <td>Male</td>\n",
       "      <td>21</td>\n",
       "      <td>16</td>\n",
       "      <td>20</td>\n",
       "      <td>32.997729</td>\n",
       "      <td>1</td>\n",
       "    </tr>\n",
       "  </tbody>\n",
       "</table>\n",
       "</div>"
      ],
      "text/plain": [
       "  Mouse ID Drug Regimen   Sex  Age_months  Weight (g)  Timepoint  \\\n",
       "0     k403     Ramicane  Male          21          16          0   \n",
       "1     k403     Ramicane  Male          21          16          5   \n",
       "2     k403     Ramicane  Male          21          16         10   \n",
       "3     k403     Ramicane  Male          21          16         15   \n",
       "4     k403     Ramicane  Male          21          16         20   \n",
       "\n",
       "   Tumor Volume (mm3)  Metastatic Sites  \n",
       "0           45.000000                 0  \n",
       "1           38.825898                 0  \n",
       "2           35.014271                 1  \n",
       "3           34.223992                 1  \n",
       "4           32.997729                 1  "
      ]
     },
     "execution_count": 6,
     "metadata": {},
     "output_type": "execute_result"
    }
   ],
   "source": [
    "# Create a clean DataFrame by dropping the duplicate mouse by its ID.\n",
    "# Drop the mouse ID 'g989'\n",
    "#data[data.name.isin(list2) == False])\n",
    "\n",
    "# use .isin to check if 'g989' is in the dataframe, False to not keep it\n",
    "\n",
    "#drop = ['g989']\n",
    "#mousedata_Cleaned = mouse_dataCombined[mouse_dataCombined['Mouse ID'].isin(drop) == False]\n",
    "\n",
    "mousedata_Cleaned = mouse_dataCombined[(mouse_dataCombined['Mouse ID'] != 'g989')]\n",
    "mousedata_Cleaned.head()"
   ]
  },
  {
   "cell_type": "code",
   "execution_count": 7,
   "metadata": {},
   "outputs": [
    {
     "data": {
      "text/plain": [
       "248"
      ]
     },
     "execution_count": 7,
     "metadata": {},
     "output_type": "execute_result"
    }
   ],
   "source": [
    "# Checking the number of mice in the clean DataFrame.\n",
    "\n",
    "len(mousedata_Cleaned['Mouse ID'].unique())"
   ]
  },
  {
   "cell_type": "markdown",
   "metadata": {},
   "source": [
    "## Summary Statistics"
   ]
  },
  {
   "cell_type": "code",
   "execution_count": 8,
   "metadata": {},
   "outputs": [
    {
     "ename": "NameError",
     "evalue": "name 'mouse_mean' is not defined",
     "output_type": "error",
     "traceback": [
      "\u001b[1;31m---------------------------------------------------------------------------\u001b[0m",
      "\u001b[1;31mNameError\u001b[0m                                 Traceback (most recent call last)",
      "\u001b[1;32m~\\AppData\\Local\\Temp\\ipykernel_35496\\1378416589.py\u001b[0m in \u001b[0;36m<module>\u001b[1;34m\u001b[0m\n\u001b[0;32m     26\u001b[0m \u001b[1;33m\u001b[0m\u001b[0m\n\u001b[0;32m     27\u001b[0m drug_summarystats = pd.DataFrame({\n\u001b[1;32m---> 28\u001b[1;33m     \u001b[1;34m'Mean'\u001b[0m \u001b[1;33m:\u001b[0m \u001b[0mmouse_mean\u001b[0m\u001b[1;33m,\u001b[0m\u001b[1;33m\u001b[0m\u001b[1;33m\u001b[0m\u001b[0m\n\u001b[0m\u001b[0;32m     29\u001b[0m     \u001b[1;34m'Median'\u001b[0m \u001b[1;33m:\u001b[0m \u001b[0mmouse_median\u001b[0m\u001b[1;33m,\u001b[0m\u001b[1;33m\u001b[0m\u001b[1;33m\u001b[0m\u001b[0m\n\u001b[0;32m     30\u001b[0m     \u001b[1;34m'Variance'\u001b[0m \u001b[1;33m:\u001b[0m \u001b[0mmouse_var\u001b[0m\u001b[1;33m,\u001b[0m\u001b[1;33m\u001b[0m\u001b[1;33m\u001b[0m\u001b[0m\n",
      "\u001b[1;31mNameError\u001b[0m: name 'mouse_mean' is not defined"
     ]
    }
   ],
   "source": [
    "# Generate a summary statistics table of mean, median, variance, standard deviation, and \n",
    "#SEM of the tumor volume for each regimen\n",
    "\n",
    "# Use groupby and summary statistical methods to calculate the following properties of each drug regimen: \n",
    "# mean, median, variance, standard deviation, and SEM of the tumor volume. \n",
    "# Assemble the resulting series into a single summary dataframe.\n",
    "\n",
    "\n",
    "drug_mean = mousedata_Cleaned.groupby(['Drug Regimen']).mean()['Tumor Volume (mm3)']\n",
    "drug_mean\n",
    "\n",
    "drug_median = mousedata_Cleaned.groupby(['Drug Regimen']).median()['Tumor Volume (mm3)']\n",
    "drug_median\n",
    "\n",
    "drug_var = mousedata_Cleaned.groupby(['Drug Regimen']).var()['Tumor Volume (mm3)']\n",
    "drug_var\n",
    "\n",
    "drug_std = mousedata_Cleaned.groupby(['Drug Regimen']).std()['Tumor Volume (mm3)']\n",
    "drug_std\n",
    "\n",
    "drug_sem = mouse_var = mousedata_Cleaned.groupby(['Drug Regimen']).sem()['Tumor Volume (mm3)']\n",
    "drug_sem\n",
    "\n",
    "\n",
    "# Assemble summary stats into a single summary dataframe\n",
    "\n",
    "drug_summarystats = pd.DataFrame({\n",
    "    'Mean' : mouse_mean, \n",
    "    'Median' : mouse_median, \n",
    "    'Variance' : mouse_var, \n",
    "    'Standard Deviation' : mouse_std, \n",
    "    'Standard Error of Mean' : mouse_sem\n",
    "})\n",
    "\n",
    "# Formatting\n",
    "drug_summarystats['Mean'] = drug_summarystats['Mean'].map('{:.3f}'.format)\n",
    "drug_summarystats['Median'] = drug_summarystats['Median'].map('{:.3f}'.format)\n",
    "drug_summarystats['Variance'] = drug_summarystats['Variance'].map('{:.3f}'.format)\n",
    "drug_summarystats['Standard Deviation'] = drug_summarystats['Standard Deviation'].map('{:.3f}'.format)\n",
    "drug_summarystats['Standard Error of Mean'] = drug_summarystats['Standard Error of Mean'].map('{:.3f}'.format)\n",
    "\n",
    "drug_summarystats"
   ]
  },
  {
   "cell_type": "code",
   "execution_count": null,
   "metadata": {},
   "outputs": [],
   "source": [
    "# Generate a summary statistics table of mean, median, variance, standard deviation, \n",
    "# and SEM of the tumor volume for each regimen\n",
    "# Using the aggregation method, produce the same summary statistics in a single line\n",
    "\n",
    "\n",
    "# https://sparkbyexamples.com/pandas/pandas-aggregate-functions-with-examples/\n",
    "#result = df.groupby('Courses')['Fee'].aggregate(['min','max'])\n",
    "\n",
    "\n",
    "drug_summary2 = mousedata_Cleaned.groupby(['Drug Regimen']).aggregate(['mean', 'median', 'var', 'std', 'sem'])['Tumor Volume (mm3)']\n",
    "drug_summary2"
   ]
  },
  {
   "cell_type": "markdown",
   "metadata": {},
   "source": [
    "## Bar and Pie Charts"
   ]
  },
  {
   "cell_type": "code",
   "execution_count": 9,
   "metadata": {},
   "outputs": [
    {
     "data": {
      "text/plain": [
       "<AxesSubplot:title={'center':'Total # of Timepoints for each Drug'}, xlabel='Drug Regimen', ylabel='Total Count of Timepoints'>"
      ]
     },
     "execution_count": 9,
     "metadata": {},
     "output_type": "execute_result"
    },
    {
     "data": {
      "image/png": "[encoded data removed]",
      "text/plain": [
       "<Figure size 432x288 with 1 Axes>"
      ]
     },
     "metadata": {
      "needs_background": "light"
     },
     "output_type": "display_data"
    }
   ],
   "source": [
    "# Generate a bar plot showing the total number of timepoints for all mice tested for each drug regimen using Pandas.\n",
    "# df.plot\n",
    "# x axis = drug\n",
    "# y axis = timepoints\n",
    "\n",
    "# Set x axis and tick locations\n",
    "\n",
    "drug_count = mousedata_Cleaned['Drug Regimen'].value_counts()\n",
    "drug_count\n",
    "\n",
    "drug_barplot1 = drug_count.plot(kind = 'bar', title= 'Total # of Timepoints for each Drug', \n",
    "                xlabel= 'Drug Regimen', \n",
    "                ylabel= 'Total Count of Timepoints')\n",
    "\n",
    "drug_barplot1"
   ]
  },
  {
   "cell_type": "code",
   "execution_count": 10,
   "metadata": {},
   "outputs": [
    {
     "data": {
      "text/plain": [
       "Text(0.5, 1.0, 'Total # of Timepoints for each Drug')"
      ]
     },
     "execution_count": 10,
     "metadata": {},
     "output_type": "execute_result"
    },
    {
     "data": {
      "image/png": "[encoded data removed]",
      "text/plain": [
       "<Figure size 720x432 with 1 Axes>"
      ]
     },
     "metadata": {
      "needs_background": "light"
     },
     "output_type": "display_data"
    }
   ],
   "source": [
    "# Generate a bar plot showing the total number of timepoints for all mice tested for each drug regimen using pyplot.\n",
    "#bar.plt\n",
    "      \n",
    "x_axis = mousedata_Cleaned['Drug Regimen'].unique()\n",
    "x_axis\n",
    "\n",
    "plt.figure(figsize= (10, 6))\n",
    "plt.bar(x_axis, drug_count, align= 'center')\n",
    "tick_locations = [value for value in x_axis]\n",
    "plt.xlabel('Drug Regimen')\n",
    "plt.ylabel('Total Count of Timepoints')\n",
    "plt.title('Total # of Timepoints for each Drug')\n"
   ]
  },
  {
   "cell_type": "code",
   "execution_count": 11,
   "metadata": {},
   "outputs": [
    {
     "data": {
      "text/plain": [
       "<AxesSubplot:title={'center':'Male vs Female'}, ylabel=' '>"
      ]
     },
     "execution_count": 11,
     "metadata": {},
     "output_type": "execute_result"
    },
    {
     "data": {
      "image/png": "[encoded data removed]",
      "text/plain": [
       "<Figure size 432x288 with 1 Axes>"
      ]
     },
     "metadata": {},
     "output_type": "display_data"
    }
   ],
   "source": [
    "# Generate a pie plot showing the distribution of female versus male mice using Pandas\n",
    "\n",
    "# Set x axis and tick locations\n",
    "\n",
    "gender_count = mousedata_Cleaned['Sex'].value_counts()\n",
    "gender_count\n",
    "\n",
    "gender_pie1 = gender_count.plot.pie(ylabel= ' ',autopct= '%1.1f%%', title= 'Male vs Female', startangle= 45)\n",
    "\n",
    "gender_pie1"
   ]
  },
  {
   "cell_type": "code",
   "execution_count": 12,
   "metadata": {},
   "outputs": [
    {
     "data": {
      "text/plain": [
       "Text(0.5, 1.0, 'Male vs. Female')"
      ]
     },
     "execution_count": 12,
     "metadata": {},
     "output_type": "execute_result"
    },
    {
     "data": {
      "image/png": "[encoded data removed]",
      "text/plain": [
       "<Figure size 432x288 with 1 Axes>"
      ]
     },
     "metadata": {},
     "output_type": "display_data"
    }
   ],
   "source": [
    "# Generate a pie plot showing the distribution of female versus male mice using pyplot\n",
    "\n",
    "x_axis = gender_count\n",
    "x_axis\n",
    "\n",
    "labels = mousedata_Cleaned['Sex'].unique()\n",
    "labels\n",
    "\n",
    "#plt.figure(figsize= (10, 6))\n",
    "plt.pie(x_axis, labels= labels, autopct= '%1.1f%%', startangle= 45)\n",
    "plt.title('Male vs. Female')\n"
   ]
  },
  {
   "cell_type": "markdown",
   "metadata": {},
   "source": [
    "## Quartiles, Outliers and Boxplots"
   ]
  },
  {
   "cell_type": "code",
   "execution_count": 13,
   "metadata": {},
   "outputs": [
    {
     "data": {
      "text/html": [
       "<div>\n",
       "<style scoped>\n",
       "    .dataframe tbody tr th:only-of-type {\n",
       "        vertical-align: middle;\n",
       "    }\n",
       "\n",
       "    .dataframe tbody tr th {\n",
       "        vertical-align: top;\n",
       "    }\n",
       "\n",
       "    .dataframe thead th {\n",
       "        text-align: right;\n",
       "    }\n",
       "</style>\n",
       "<table border=\"1\" class=\"dataframe\">\n",
       "  <thead>\n",
       "    <tr style=\"text-align: right;\">\n",
       "      <th></th>\n",
       "      <th>Mouse ID</th>\n",
       "      <th>Drug Regimen</th>\n",
       "      <th>Sex</th>\n",
       "      <th>Age_months</th>\n",
       "      <th>Weight (g)</th>\n",
       "      <th>Timepoint</th>\n",
       "      <th>Tumor Volume (mm3)</th>\n",
       "      <th>Metastatic Sites</th>\n",
       "    </tr>\n",
       "  </thead>\n",
       "  <tbody>\n",
       "    <tr>\n",
       "      <th>0</th>\n",
       "      <td>k403</td>\n",
       "      <td>Ramicane</td>\n",
       "      <td>Male</td>\n",
       "      <td>21</td>\n",
       "      <td>16</td>\n",
       "      <td>45</td>\n",
       "      <td>22.050126</td>\n",
       "      <td>1</td>\n",
       "    </tr>\n",
       "    <tr>\n",
       "      <th>1</th>\n",
       "      <td>s185</td>\n",
       "      <td>Capomulin</td>\n",
       "      <td>Female</td>\n",
       "      <td>3</td>\n",
       "      <td>17</td>\n",
       "      <td>45</td>\n",
       "      <td>23.343598</td>\n",
       "      <td>1</td>\n",
       "    </tr>\n",
       "    <tr>\n",
       "      <th>2</th>\n",
       "      <td>x401</td>\n",
       "      <td>Capomulin</td>\n",
       "      <td>Female</td>\n",
       "      <td>16</td>\n",
       "      <td>15</td>\n",
       "      <td>45</td>\n",
       "      <td>28.484033</td>\n",
       "      <td>0</td>\n",
       "    </tr>\n",
       "    <tr>\n",
       "      <th>3</th>\n",
       "      <td>m601</td>\n",
       "      <td>Capomulin</td>\n",
       "      <td>Male</td>\n",
       "      <td>22</td>\n",
       "      <td>17</td>\n",
       "      <td>45</td>\n",
       "      <td>28.430964</td>\n",
       "      <td>1</td>\n",
       "    </tr>\n",
       "    <tr>\n",
       "      <th>4</th>\n",
       "      <td>g791</td>\n",
       "      <td>Ramicane</td>\n",
       "      <td>Male</td>\n",
       "      <td>11</td>\n",
       "      <td>16</td>\n",
       "      <td>45</td>\n",
       "      <td>29.128472</td>\n",
       "      <td>1</td>\n",
       "    </tr>\n",
       "  </tbody>\n",
       "</table>\n",
       "</div>"
      ],
      "text/plain": [
       "  Mouse ID Drug Regimen     Sex  Age_months  Weight (g)  Timepoint  \\\n",
       "0     k403     Ramicane    Male          21          16         45   \n",
       "1     s185    Capomulin  Female           3          17         45   \n",
       "2     x401    Capomulin  Female          16          15         45   \n",
       "3     m601    Capomulin    Male          22          17         45   \n",
       "4     g791     Ramicane    Male          11          16         45   \n",
       "\n",
       "   Tumor Volume (mm3)  Metastatic Sites  \n",
       "0           22.050126                 1  \n",
       "1           23.343598                 1  \n",
       "2           28.484033                 0  \n",
       "3           28.430964                 1  \n",
       "4           29.128472                 1  "
      ]
     },
     "execution_count": 13,
     "metadata": {},
     "output_type": "execute_result"
    }
   ],
   "source": [
    "# Calculate the final tumor volume of each mouse across four of the treatment regimens:  \n",
    "# Capomulin, Ramicane, Infubinol, and Ceftamin\n",
    "\n",
    "# Start by getting the last (greatest) timepoint for each mouse\n",
    "\n",
    "# Merge this group df with the original dataframe to get the tumor volume at the last timepoint\n",
    "\n",
    "\n",
    "\n",
    "# First find the max Timepoint for each mouse \n",
    "max_timepoint = mousedata_Cleaned.groupby(['Mouse ID']).max(['Timepoint'])\n",
    "max_timepoint\n",
    "\n",
    "cleanedData_merged = pd.merge(mousedata_Cleaned, max_timepoint, on = ['Mouse ID', 'Timepoint'])\n",
    "cleanedData_drop = cleanedData_merged.drop(columns = ['Age_months_y', 'Weight (g)_y', 'Tumor Volume (mm3)_y', 'Metastatic Sites_y'])\n",
    "cleanedData_drop\n",
    "\n",
    "# Formatting\n",
    "mergedData = cleanedData_drop.rename(columns= {\n",
    "    'Age_months_x' : 'Age_months', \n",
    "    'Weight (g)_x' : 'Weight (g)', \n",
    "    'Tumor Volume (mm3)_x' : 'Tumor Volume (mm3)', \n",
    "    'Metastatic Sites_x' : 'Metastatic Sites'\n",
    "})\n",
    "\n",
    "mergedData.head()"
   ]
  },
  {
   "cell_type": "code",
   "execution_count": 14,
   "metadata": {
    "scrolled": true
   },
   "outputs": [],
   "source": [
    "# Calculate the final tumor volume of each mouse across four of the treatment regimens:  \n",
    "# Capomulin, Ramicane, Infubinol, and Ceftamin\n",
    "\n",
    "# Create empty list for each drug\n",
    "drug1_capomulin = []\n",
    "drug2_ramicane = []\n",
    "drug3_infubinol = []\n",
    "drug4_ceftamin = []\n",
    "# treatments = ['Capomulin', 'Ramicane', 'Infubinol', 'Ceftamin']\n",
    "\n",
    "# Append tumor volume data to appropriate empty lists\n",
    "\n",
    "for drug in mergedData['Drug Regimen']:\n",
    "    \n",
    "    # For Capomulin drug in 'Drug Regimen' do...\n",
    "    if drug == 'Capomulin':\n",
    "        \n",
    "        # Locate tumor volume data grouped by capomulin\n",
    "        drug1_loc = mergedData.loc[(mergedData['Drug Regimen'] == 'Capomulin')]['Tumor Volume (mm3)']\n",
    "        \n",
    "        # Append data to list\n",
    "        drug1_capomulin.append(drug1_loc)\n",
    "        \n",
    "\n",
    "    # For Ramicane\n",
    "    elif drug == 'Ramicane':\n",
    "        \n",
    "        # Locate tumor volume data grouped by capomulin\n",
    "        drug2_loc = mergedData.loc[(mergedData['Drug Regimen'] == 'Ramicane')]['Tumor Volume (mm3)']\n",
    "        \n",
    "        # Append data to list\n",
    "        drug2_ramicane.append(drug2_loc)\n",
    "    \n",
    "    # For Infubinol\n",
    "    elif drug == 'Infubinol':\n",
    "        \n",
    "        # Locate tumor volume data grouped by capomulin\n",
    "        drug3_loc = mergedData.loc[(mergedData['Drug Regimen'] == 'Infubinol')]['Tumor Volume (mm3)']\n",
    "        \n",
    "        # Append data to list\n",
    "        drug3_infubinol.append(drug3_loc)\n",
    "\n",
    "    # For Ceftamin\n",
    "    elif drug == 'Ceftamin':\n",
    "        drug4_loc = mergedData.loc[(mergedData['Drug Regimen'] == 'Ceftamin')]['Tumor Volume (mm3)']\n",
    "        \n",
    "        # Append data to list\n",
    "        drug4_ceftamin.append(drug4_loc)\n",
    "\n",
    "# Select the first index        \n",
    "drug1_capomulin = drug1_capomulin[0]\n",
    "drug2_ramicane = drug2_ramicane[0]\n",
    "drug3_infubinol = drug3_infubinol[0]\n",
    "drug4_ceftamin = drug4_ceftamin[0]\n",
    "#drug4_ceftamin\n"
   ]
  },
  {
   "cell_type": "code",
   "execution_count": 22,
   "metadata": {},
   "outputs": [
    {
     "name": "stdout",
     "output_type": "stream",
     "text": [
      "Drug Treatment: Capomulin\n",
      " Lower Quartile: 32.37735684\n",
      " Upper Quartile: 40.1592203\n",
      " IQR: 7.781863460000004\n",
      " Capomulin's outliers are 20.70456164999999 and 51.83201549\n",
      "\n",
      "\n",
      "Drug Treatment: Ramicane\n",
      " Lower Quartile: 31.56046955\n",
      " Upper Quartile: 40.65900627\n",
      " IQR: 9.098536719999998\n",
      " Ramicane's outliers are 17.912664470000003 and 54.30681135\n",
      "\n",
      "\n",
      "Drug Treatment: Infubinol\n",
      " Lower Quartile: 54.04860769\n",
      " Upper Quartile: 65.52574285\n",
      " IQR: 11.477135160000003\n",
      " Infubinol's outliers are 36.83290494999999 and 82.74144559000001\n",
      "\n",
      "\n",
      "Drug Treatment: Ceftamin\n",
      " Lower Quartile: 48.72207785\n",
      " Upper Quartile: 64.29983003\n",
      " IQR: 15.577752179999997\n",
      " Ceftamin's outliers are 25.355449580000002 and 87.66645829999999\n",
      "\n",
      "\n"
     ]
    },
    {
     "data": {
      "text/html": [
       "<div>\n",
       "<style scoped>\n",
       "    .dataframe tbody tr th:only-of-type {\n",
       "        vertical-align: middle;\n",
       "    }\n",
       "\n",
       "    .dataframe tbody tr th {\n",
       "        vertical-align: top;\n",
       "    }\n",
       "\n",
       "    .dataframe thead th {\n",
       "        text-align: right;\n",
       "    }\n",
       "</style>\n",
       "<table border=\"1\" class=\"dataframe\">\n",
       "  <thead>\n",
       "    <tr style=\"text-align: right;\">\n",
       "      <th></th>\n",
       "      <th>Mouse ID</th>\n",
       "      <th>Drug Regimen</th>\n",
       "      <th>Sex</th>\n",
       "      <th>Age_months</th>\n",
       "      <th>Weight (g)</th>\n",
       "      <th>Timepoint</th>\n",
       "      <th>Tumor Volume (mm3)</th>\n",
       "      <th>Metastatic Sites</th>\n",
       "    </tr>\n",
       "  </thead>\n",
       "  <tbody>\n",
       "  </tbody>\n",
       "</table>\n",
       "</div>"
      ],
      "text/plain": [
       "Empty DataFrame\n",
       "Columns: [Mouse ID, Drug Regimen, Sex, Age_months, Weight (g), Timepoint, Tumor Volume (mm3), Metastatic Sites]\n",
       "Index: []"
      ]
     },
     "execution_count": 22,
     "metadata": {},
     "output_type": "execute_result"
    }
   ],
   "source": [
    "# Calculate the IQR and outliers for each drug treatment\n",
    "\n",
    "# For Capomulin\n",
    "drug1_quartiles = drug1_capomulin.quantile([0.25, 0.5, 0.75])\n",
    "drug1_lowerq = drug1_quartiles[0.25]\n",
    "drug1_upperq = drug1_quartiles[0.75]\n",
    "drug1_iqr = drug1_upperq - drug1_lowerq\n",
    "drug1_lowerBound = drug1_lowerq - (1.5 * drug1_iqr)\n",
    "drug1_upperBound = drug1_upperq + (1.5 * drug1_iqr)\n",
    "\n",
    "print(f\"Drug Treatment: Capomulin\\n Lower Quartile: {drug1_lowerq}\\n Upper Quartile: {drug1_upperq}\\n \"\n",
    "      f\"IQR: {drug1_iqr}\\n Capomulin's outliers are {drug1_lowerBound} and {drug1_upperBound}\\n\\n\")\n",
    "\n",
    "# For Ramicane\n",
    "drug2_quartiles = drug2_ramicane.quantile([0.25, 0.5, 0.75])\n",
    "drug2_lowerq = drug2_quartiles[0.25]\n",
    "drug2_upperq = drug2_quartiles[0.75]\n",
    "drug2_iqr = drug2_upperq - drug2_lowerq\n",
    "drug2_lowerBound = drug2_lowerq - (1.5 * drug2_iqr)\n",
    "drug2_upperBound = drug2_upperq + (1.5 * drug2_iqr)\n",
    "\n",
    "print(f\"Drug Treatment: Ramicane\\n Lower Quartile: {drug2_lowerq}\\n Upper Quartile: {drug2_upperq}\\n \"\n",
    "      f\"IQR: {drug2_iqr}\\n Ramicane's outliers are {drug2_lowerBound} and {drug2_upperBound}\\n\\n\")\n",
    "\n",
    "# For Infubinol\n",
    "drug3_quartiles = drug3_infubinol.quantile([0.25, 0.5, 0.75])\n",
    "drug3_lowerq = drug3_quartiles[0.25]\n",
    "drug3_upperq = drug3_quartiles[0.75]\n",
    "drug3_iqr = drug3_upperq - drug3_lowerq\n",
    "drug3_lowerBound = drug3_lowerq - (1.5 * drug3_iqr)\n",
    "drug3_upperBound = drug3_upperq + (1.5 * drug3_iqr)\n",
    "\n",
    "print(f\"Drug Treatment: Infubinol\\n Lower Quartile: {drug3_lowerq}\\n Upper Quartile: {drug3_upperq}\\n \"\n",
    "      f\"IQR: {drug3_iqr}\\n Infubinol's outliers are {drug3_lowerBound} and {drug3_upperBound}\\n\\n\")\n",
    "\n",
    "\n",
    "# For Ceftamin\n",
    "drug4_quartiles = drug4_ceftamin.quantile([0.25, 0.5, 0.75])\n",
    "drug4_lowerq = drug4_quartiles[0.25]\n",
    "drug4_upperq = drug4_quartiles[0.75]\n",
    "drug4_iqr = drug4_upperq - drug4_lowerq\n",
    "drug4_lowerBound = drug4_lowerq - (1.5 * drug4_iqr)\n",
    "drug4_upperBound = drug4_upperq + (1.5 * drug4_iqr)\n",
    "\n",
    "print(f\"Drug Treatment: Ceftamin\\n Lower Quartile: {drug4_lowerq}\\n Upper Quartile: {drug4_upperq}\\n \"\n",
    "      f\"IQR: {drug4_iqr}\\n Ceftamin's outliers are {drug4_lowerBound} and {drug4_upperBound}\\n\\n\")\n",
    "\n"
   ]
  },
  {
   "cell_type": "code",
   "execution_count": 112,
   "metadata": {
    "scrolled": false
   },
   "outputs": [
    {
     "data": {
      "image/png": "[encoded data removed]",
      "text/plain": [
       "<Figure size 432x288 with 1 Axes>"
      ]
     },
     "metadata": {
      "needs_background": "light"
     },
     "output_type": "display_data"
    }
   ],
   "source": [
    "# Generate a box plot of the final tumor volume of each mouse across four regimens of interest\n",
    "\n",
    "# Create Dataframe of 4 drugs with tumor data\n",
    "drugsDF = pd.DataFrame({\n",
    "    'Capomulin': drug1_capomulin,\n",
    "    'Ramicane' : drug2_ramicane,\n",
    "    'Infubinol' : drug3_infubinol, \n",
    "    'Ceftamin' : drug4_ceftamin\n",
    "    })\n",
    "drugsDF\n",
    "\n",
    "drugs_boxplot = drugsDF.boxplot(grid= False,\n",
    "               flierprops={'marker': 'o', 'markersize': 8, 'markerfacecolor': 'orange', 'markeredgecolor' : 'black'})\n"
   ]
  },
  {
   "cell_type": "code",
   "execution_count": 113,
   "metadata": {
    "scrolled": true
   },
   "outputs": [],
   "source": [
    "# Calculate the final tumor volume of each mouse across four of the treatment regimens:  \n",
    "# Capomulin, Ramicane, Infubinol, and Ceftamin\n",
    "\n",
    "# Put treatments into a list for for loop (and later for plot labels)\n",
    "#treatments = ['Capomulin', 'Ramicane', 'Infubinol', 'Ceftamin']\n",
    "\n",
    "# Create empty list to fill with tumor vol data (for plotting)\n",
    "#tumor_list = []\n",
    "\n",
    "#for drugs in treatments:\n",
    "    \n",
    "    # Find Treatments\n",
    "#    tumor_data = mergedData.loc[mergedData['Drug Regimen'] == drugs]\n",
    "     \n",
    "    # Append Tumor volume data into tumor_data\n",
    "#    tumor_list.append(tumor_data)\n",
    "#tumor_list\n",
    "        \n",
    "        \n",
    "# Calculate the IQR and outliers for each drug treatment\n",
    "\n",
    "    \n",
    "    # Locate the rows which contain mice on each drug and get the tumor volumes\n",
    "    \n",
    "    \n",
    "    # add subset \n",
    "    \n",
    "    \n",
    "    # Determine outliers using upper and lower bounds\n",
    "    "
   ]
  },
  {
   "cell_type": "code",
   "execution_count": 114,
   "metadata": {},
   "outputs": [],
   "source": [
    "# Generate a box plot of the final tumor volume of each mouse across four regimens of interest\n"
   ]
  },
  {
   "cell_type": "markdown",
   "metadata": {},
   "source": [
    "## Line and Scatter Plots"
   ]
  },
  {
   "cell_type": "code",
   "execution_count": 115,
   "metadata": {},
   "outputs": [
    {
     "data": {
      "text/plain": [
       "Text(0.5, 1.0, 'Capomulin Treatment for mouse i557')"
      ]
     },
     "execution_count": 115,
     "metadata": {},
     "output_type": "execute_result"
    },
    {
     "data": {
      "image/png": "[encoded data removed]",
      "text/plain": [
       "<Figure size 432x288 with 1 Axes>"
      ]
     },
     "metadata": {
      "needs_background": "light"
     },
     "output_type": "display_data"
    }
   ],
   "source": [
    "# Generate a line plot of tumor volume vs. time point for a mouse treated with Capomulin\n",
    "#x = timepoint\n",
    "#y = tumor volume\n",
    "\n",
    "# Locate mice treated with Capomulin\n",
    "capo = mousedata_Cleaned.loc[mousedata_Cleaned['Drug Regimen'] == 'Capomulin']\n",
    "#capo\n",
    "\n",
    "# Pick a random mouse to plot - Mouse ID i557\n",
    "capo_mouse = capo.loc[capo['Mouse ID'] == 'i557']\n",
    "#capo_mouse\n",
    "\n",
    "# Set X and Y axis\n",
    "capo_xAxis = capo_mouse['Timepoint']\n",
    "#capo_xAxis\n",
    "\n",
    "capo_yAxis = capo_mouse['Tumor Volume (mm3)']\n",
    "#capo_yAxis\n",
    "\n",
    "# Plot\n",
    "capo_lineplot = plt.plot(capo_xAxis, capo_yAxis)\n",
    "plt.xlabel(' Timepoint (Days)')\n",
    "plt.ylabel('Tumor Volume (mm3)')\n",
    "plt.title('Capomulin Treatment for mouse i557')\n"
   ]
  },
  {
   "cell_type": "code",
   "execution_count": 116,
   "metadata": {},
   "outputs": [
    {
     "data": {
      "text/plain": [
       "Text(0.5, 1.0, 'Capomulin: Average Tumor Volume vs Weight per Mouse')"
      ]
     },
     "execution_count": 116,
     "metadata": {},
     "output_type": "execute_result"
    },
    {
     "data": {
      "image/png": "[encoded data removed]",
      "text/plain": [
       "<Figure size 432x288 with 1 Axes>"
      ]
     },
     "metadata": {
      "needs_background": "light"
     },
     "output_type": "display_data"
    }
   ],
   "source": [
    "# Generate a scatter plot of average tumor volume vs. mouse weight for the Capomulin regimen\n",
    "# x = weight\n",
    "# y = avg tumor volume\n",
    "#capo\n",
    "\n",
    "# Create x and y axis\n",
    "\n",
    "# First find average of Tumor volume\n",
    "capo_mean = capo.groupby(['Mouse ID']).mean('Tumor Volume (mm3)')\n",
    "capo_mean\n",
    "\n",
    "capo_xAxis2 = capo_mean['Weight (g)']\n",
    "#capo_xAxis2\n",
    "\n",
    "capo_yAxis2 = capo_mean['Tumor Volume (mm3)']\n",
    "capo_yAxis2\n",
    "\n",
    "# Plot\n",
    "capo_scatter = plt.scatter(capo_xAxis2, capo_yAxis2)\n",
    "plt.ylim(32, 48)\n",
    "plt.xlabel('Weight (g)')\n",
    "plt.ylabel('Average Tumor Volume (mm3)')\n",
    "plt.title('Capomulin: Average Tumor Volume vs Weight per Mouse')"
   ]
  },
  {
   "cell_type": "markdown",
   "metadata": {},
   "source": [
    "## Correlation and Regression"
   ]
  },
  {
   "cell_type": "code",
   "execution_count": 139,
   "metadata": {},
   "outputs": [
    {
     "name": "stdout",
     "output_type": "stream",
     "text": [
      "The correlation between mouse weight and average tumor volume for all mice treated by Capomulin is 0.84.\n"
     ]
    },
    {
     "data": {
      "text/plain": [
       "Text(0.5, 1.0, 'Capomulin: Average Tumor Volume vs Weight per Mouse')"
      ]
     },
     "execution_count": 139,
     "metadata": {},
     "output_type": "execute_result"
    },
    {
     "data": {
      "image/png": "[encoded data removed]",
      "text/plain": [
       "<Figure size 432x288 with 1 Axes>"
      ]
     },
     "metadata": {
      "needs_background": "light"
     },
     "output_type": "display_data"
    }
   ],
   "source": [
    "# Calculate the correlation coefficient and linear regression model \n",
    "# for mouse weight and average tumor volume for the Capomulin regimen\n",
    "# x = capo_xAxis2\n",
    "# y = capo_xAxis2\n",
    "\n",
    "# Calculate the correlation coefficient\n",
    "\n",
    "correlation = st.pearsonr(capo_xAxis2, capo_yAxis2)\n",
    "print(f\"The correlation between mouse weight and average tumor volume for all mice \"\n",
    "      f\"treated by Capomulin is {correlation[0]:.2f}.\")\n",
    "\n",
    "# Calculate linear regression model\n",
    "plt.scatter(capo_xAxis2, capo_yAxis2)\n",
    "(slope, intercept, rvalue, pvalue, stderr) = st.linregress(capo_xAxis2, capo_yAxis2)\n",
    "regressValue = (capo_xAxis2 * slope) + intercept\n",
    "plt.plot(capo_xAxis2, regressValue, \"r-\", alpha= 0.5)\n",
    "\n",
    "plt.xlabel('Weight (g)')\n",
    "plt.ylabel('Average Tumor Volume (mm3)')\n",
    "plt.ylim(32, 48)\n",
    "plt.title('Capomulin: Average Tumor Volume vs Weight per Mouse')"
   ]
  },
  {
   "cell_type": "code",
   "execution_count": null,
   "metadata": {},
   "outputs": [],
   "source": []
  }
 ],
 "metadata": {
  "anaconda-cloud": {},
  "kernelspec": {
   "display_name": "PythonData",
   "language": "python",
   "name": "pythondata"
  },
  "language_info": {
   "codemirror_mode": {
    "name": "ipython",
    "version": 3
   },
   "file_extension": ".py",
   "mimetype": "text/x-python",
   "name": "python",
   "nbconvert_exporter": "python",
   "pygments_lexer": "ipython3",
   "version": "3.7.13"
  }
 },
 "nbformat": 4,
 "nbformat_minor": 4
}
